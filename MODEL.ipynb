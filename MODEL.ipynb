{
  "nbformat": 4,
  "nbformat_minor": 0,
  "metadata": {
    "colab": {
      "provenance": []
    },
    "kernelspec": {
      "name": "python3",
      "display_name": "Python 3"
    },
    "language_info": {
      "name": "python"
    },
    "gpuClass": "standard",
    "accelerator": "GPU"
  },
  "cells": [
    {
      "cell_type": "code",
      "execution_count": null,
      "metadata": {
        "id": "I5O-VDFbpxOu"
      },
      "outputs": [],
      "source": [
        "import numpy as np\n",
        "import tensorflow as tens\n",
        "import os\n",
        "import shutil\n",
        "import datetime\n",
        "import cv2\n",
        "from google.colab.patches import cv2_imshow\n",
        "from tensorflow.keras.preprocessing.image import ImageDataGenerator\n",
        "from tensorflow.keras.models import Sequential\n",
        "from tensorflow.keras.layers import Conv2D,MaxPool2D,Flatten,Dense,Dropout"
      ]
    },
    {
      "cell_type": "code",
      "source": [
        "from google.colab import drive\n",
        "drive.mount('/content/drive')"
      ],
      "metadata": {
        "id": "5oKAXuG5p1q0",
        "colab": {
          "base_uri": "https://localhost:8080/"
        },
        "outputId": "4cb307f4-525f-409e-8c3e-cfea66c9c9d5"
      },
      "execution_count": null,
      "outputs": [
        {
          "output_type": "stream",
          "name": "stdout",
          "text": [
            "Drive already mounted at /content/drive; to attempt to forcibly remount, call drive.mount(\"/content/drive\", force_remount=True).\n"
          ]
        }
      ]
    },
    {
      "cell_type": "code",
      "source": [
        "!unzip /content/drive/MyDrive/data.zip -d Data"
      ],
      "metadata": {
        "id": "2uU3gsj-p1td",
        "colab": {
          "base_uri": "https://localhost:8080/"
        },
        "outputId": "d7e223c8-5e2f-44d0-e664-489e1160de41"
      },
      "execution_count": null,
      "outputs": [
        {
          "output_type": "stream",
          "name": "stdout",
          "text": [
            "Archive:  /content/drive/MyDrive/data.zip\n",
            "replace Data/train/Signed/1 (1).png? [y]es, [n]o, [A]ll, [N]one, [r]ename: "
          ]
        }
      ]
    },
    {
      "cell_type": "code",
      "source": [
        "#sub dir\n",
        "sign_train=os.path.join('/content/Data/train/Signed')\n",
        "unsign_train=os.path.join('/content/Data/train/Unsigned')\n",
        "sign_val=os.path.join('/content/Data/val/Signed')\n",
        "unsign_val=os.path.join('/content/Data/val/Unsigned')"
      ],
      "metadata": {
        "id": "0wS46ZLtp1wH"
      },
      "execution_count": null,
      "outputs": []
    },
    {
      "cell_type": "code",
      "source": [
        "print('signed img in training:',len(os.listdir(sign_train)))\n",
        "print('unsigned img in training:',len(os.listdir(unsign_train)))\n",
        "print('signed img in val:',len(os.listdir(sign_val)))\n",
        "print('unsigned img in val:',len(os.listdir(unsign_val)))"
      ],
      "metadata": {
        "id": "WYQ_ziAdp1y7",
        "colab": {
          "base_uri": "https://localhost:8080/"
        },
        "outputId": "c8fcdc5e-54bf-4357-baea-caff70417169"
      },
      "execution_count": null,
      "outputs": [
        {
          "output_type": "stream",
          "name": "stdout",
          "text": [
            "signed img in training: 23489\n",
            "unsigned img in training: 23489\n",
            "signed img in val: 1000\n",
            "unsigned img in val: 1000\n"
          ]
        }
      ]
    },
    {
      "cell_type": "code",
      "source": [
        "train_gen = ImageDataGenerator(rescale=1/255)"
      ],
      "metadata": {
        "id": "v9sh569pp11c"
      },
      "execution_count": null,
      "outputs": []
    },
    {
      "cell_type": "code",
      "source": [
        "train_gener=train_gen.flow_from_directory('/content/Data/train', classes=['Signed','Unsigned'],target_size=(256,256),\n",
        "                                          batch_size=100,class_mode='binary',shuffle=True)"
      ],
      "metadata": {
        "id": "w4rRSjUnp145",
        "colab": {
          "base_uri": "https://localhost:8080/"
        },
        "outputId": "2012dee8-279f-4712-80fa-3d1f733c2e9c"
      },
      "execution_count": null,
      "outputs": [
        {
          "output_type": "stream",
          "name": "stdout",
          "text": [
            "Found 46978 images belonging to 2 classes.\n"
          ]
        }
      ]
    },
    {
      "cell_type": "code",
      "source": [
        "val_gener = train_gen.flow_from_directory('/content/Data/val', classes=['Signed','Unsigned'],target_size=(256,256),\n",
        "                                         batch_size=50,class_mode='binary',shuffle=True)"
      ],
      "metadata": {
        "id": "9XZdpwZCqCrw",
        "colab": {
          "base_uri": "https://localhost:8080/"
        },
        "outputId": "18ca937f-9beb-404c-dc06-cc0b3842c9b0"
      },
      "execution_count": null,
      "outputs": [
        {
          "output_type": "stream",
          "name": "stdout",
          "text": [
            "Found 2000 images belonging to 2 classes.\n"
          ]
        }
      ]
    },
    {
      "cell_type": "code",
      "source": [
        "#building the model\n",
        "model = Sequential()\n",
        "model.add(Conv2D(input_shape=(256,256,3),filters=60,kernel_size=(3,3),padding='same',activation='relu'))\n",
        "model.add(Conv2D(filters=60,kernel_size=(3,3),padding='same',activation='relu'))\n",
        "model.add(MaxPool2D(pool_size=(2,2)))\n",
        "\n",
        "model.add(Conv2D(filters=120,kernel_size=(3,3),padding='same',activation='relu'))\n",
        "model.add(Conv2D(filters=120,kernel_size=(3,3),padding='same',activation='relu'))\n",
        "model.add(MaxPool2D(pool_size=(2,2)))\n",
        "\n",
        "model.add(Conv2D(filters=248,kernel_size=(3,3),padding='same',activation='relu'))\n",
        "model.add(Conv2D(filters=248,kernel_size=(3,3),padding='same',activation='relu'))\n",
        "model.add(MaxPool2D(pool_size=(2,2)))\n"
      ],
      "metadata": {
        "id": "Zqbg_zfDqCu3"
      },
      "execution_count": null,
      "outputs": []
    },
    {
      "cell_type": "code",
      "source": [
        "model.add(Flatten())\n",
        "model.add(Dense(units=1000,activation='relu'))\n",
        "model.add(Dense(units=1000,activation='relu'))\n",
        "model.add(Dense(units=1,activation='sigmoid'))"
      ],
      "metadata": {
        "id": "VH9jqoM_qCxy"
      },
      "execution_count": null,
      "outputs": []
    },
    {
      "cell_type": "code",
      "source": [
        "model.summary()"
      ],
      "metadata": {
        "id": "shhv-5hnqC1I",
        "colab": {
          "base_uri": "https://localhost:8080/"
        },
        "outputId": "a133f9e3-9520-4b38-f865-7806a24f90db"
      },
      "execution_count": null,
      "outputs": [
        {
          "output_type": "stream",
          "name": "stdout",
          "text": [
            "Model: \"sequential\"\n",
            "_________________________________________________________________\n",
            " Layer (type)                Output Shape              Param #   \n",
            "=================================================================\n",
            " conv2d (Conv2D)             (None, 256, 256, 60)      1680      \n",
            "                                                                 \n",
            " conv2d_1 (Conv2D)           (None, 256, 256, 60)      32460     \n",
            "                                                                 \n",
            " max_pooling2d (MaxPooling2D  (None, 128, 128, 60)     0         \n",
            " )                                                               \n",
            "                                                                 \n",
            " conv2d_2 (Conv2D)           (None, 128, 128, 120)     64920     \n",
            "                                                                 \n",
            " conv2d_3 (Conv2D)           (None, 128, 128, 120)     129720    \n",
            "                                                                 \n",
            " max_pooling2d_1 (MaxPooling  (None, 64, 64, 120)      0         \n",
            " 2D)                                                             \n",
            "                                                                 \n",
            " conv2d_4 (Conv2D)           (None, 64, 64, 248)       268088    \n",
            "                                                                 \n",
            " conv2d_5 (Conv2D)           (None, 64, 64, 248)       553784    \n",
            "                                                                 \n",
            " max_pooling2d_2 (MaxPooling  (None, 32, 32, 248)      0         \n",
            " 2D)                                                             \n",
            "                                                                 \n",
            " flatten (Flatten)           (None, 253952)            0         \n",
            "                                                                 \n",
            " dense (Dense)               (None, 1000)              253953000 \n",
            "                                                                 \n",
            " dense_1 (Dense)             (None, 1000)              1001000   \n",
            "                                                                 \n",
            " dense_2 (Dense)             (None, 1)                 1001      \n",
            "                                                                 \n",
            "=================================================================\n",
            "Total params: 256,005,653\n",
            "Trainable params: 256,005,653\n",
            "Non-trainable params: 0\n",
            "_________________________________________________________________\n"
          ]
        }
      ]
    },
    {
      "cell_type": "code",
      "source": [
        "model.compile(optimizer = tens.optimizers.Adam(),\n",
        "              loss='binary_crossentropy',\n",
        "              metrics=['accuracy'])"
      ],
      "metadata": {
        "id": "6CKkVeK0qMjW"
      },
      "execution_count": null,
      "outputs": []
    },
    {
      "cell_type": "code",
      "source": [
        "history=model.fit(train_gener,validation_data=val_gener,epochs=10,verbose=1)"
      ],
      "metadata": {
        "colab": {
          "base_uri": "https://localhost:8080/"
        },
        "id": "zewGKCRFqMm6",
        "outputId": "a77614f8-71c7-4c07-ae4c-2b47bbeb6638"
      },
      "execution_count": null,
      "outputs": [
        {
          "output_type": "stream",
          "name": "stdout",
          "text": [
            "Epoch 1/10\n",
            "470/470 [==============================] - 688s 1s/step - loss: 0.2728 - accuracy: 0.8888 - val_loss: 1.4324 - val_accuracy: 0.6195\n",
            "Epoch 2/10\n",
            "470/470 [==============================] - 652s 1s/step - loss: 0.1281 - accuracy: 0.9514 - val_loss: 1.8039 - val_accuracy: 0.6380\n",
            "Epoch 3/10\n",
            "470/470 [==============================] - 648s 1s/step - loss: 0.1004 - accuracy: 0.9609 - val_loss: 2.4696 - val_accuracy: 0.7000\n",
            "Epoch 4/10\n",
            "470/470 [==============================] - 648s 1s/step - loss: 0.0834 - accuracy: 0.9668 - val_loss: 3.6964 - val_accuracy: 0.6270\n",
            "Epoch 5/10\n",
            "470/470 [==============================] - 647s 1s/step - loss: 0.0748 - accuracy: 0.9703 - val_loss: 2.5770 - val_accuracy: 0.7355\n",
            "Epoch 6/10\n",
            "470/470 [==============================] - 644s 1s/step - loss: 0.0679 - accuracy: 0.9728 - val_loss: 3.9234 - val_accuracy: 0.6410\n",
            "Epoch 7/10\n",
            "470/470 [==============================] - 642s 1s/step - loss: 0.0604 - accuracy: 0.9755 - val_loss: 6.4493 - val_accuracy: 0.5405\n",
            "Epoch 8/10\n",
            "470/470 [==============================] - 639s 1s/step - loss: 0.0600 - accuracy: 0.9753 - val_loss: 6.8859 - val_accuracy: 0.6290\n",
            "Epoch 9/10\n",
            "470/470 [==============================] - 638s 1s/step - loss: 0.0517 - accuracy: 0.9782 - val_loss: 8.6880 - val_accuracy: 0.5390\n",
            "Epoch 10/10\n",
            "470/470 [==============================] - 636s 1s/step - loss: 0.0543 - accuracy: 0.9772 - val_loss: 7.9877 - val_accuracy: 0.5780\n"
          ]
        }
      ]
    },
    {
      "cell_type": "code",
      "source": [
        "!unzip -q \"/content/drive/MyDrive/inference.zip\" -d infer"
      ],
      "metadata": {
        "id": "Ap2sfwq28eck"
      },
      "execution_count": null,
      "outputs": []
    },
    {
      "cell_type": "code",
      "source": [
        "infer_dataset=train_gen.flow_from_directory(\"/content/infer\",\n",
        "target_size=(256,256),batch_size=64, class_mode='binary',shuffle=\"True\")"
      ],
      "metadata": {
        "id": "p3jxWp01L807",
        "colab": {
          "base_uri": "https://localhost:8080/"
        },
        "outputId": "5f636598-3588-40c9-a50a-cca319409ba3"
      },
      "execution_count": null,
      "outputs": [
        {
          "output_type": "stream",
          "name": "stdout",
          "text": [
            "Found 6000 images belonging to 2 classes.\n"
          ]
        }
      ]
    },
    {
      "cell_type": "code",
      "source": [
        "model.evaluate(infer_dataset)"
      ],
      "metadata": {
        "id": "IgKKDNJ8L84a",
        "colab": {
          "base_uri": "https://localhost:8080/"
        },
        "outputId": "e12532af-dced-45fc-d546-2ea2391fc27f"
      },
      "execution_count": null,
      "outputs": [
        {
          "output_type": "stream",
          "name": "stdout",
          "text": [
            "94/94 [==============================] - 34s 310ms/step - loss: 0.3521 - accuracy: 0.9652\n"
          ]
        },
        {
          "output_type": "execute_result",
          "data": {
            "text/plain": [
              "[0.35210779309272766, 0.9651666879653931]"
            ]
          },
          "metadata": {},
          "execution_count": 16
        }
      ]
    },
    {
      "cell_type": "code",
      "source": [
        "model.save('/content/drive/MyDrive/MODELS.h5') "
      ],
      "metadata": {
        "id": "cBOEUoc_Nhql"
      },
      "execution_count": null,
      "outputs": []
    },
    {
      "cell_type": "code",
      "source": [
        "model = tens.keras.models.load_model('/content/drive/MyDrive/MODELS.h5')\n",
        "model"
      ],
      "metadata": {
        "id": "My2e-iHLQa0N",
        "colab": {
          "base_uri": "https://localhost:8080/"
        },
        "outputId": "509da3ec-5805-496c-9690-97385ad3225b"
      },
      "execution_count": null,
      "outputs": [
        {
          "output_type": "execute_result",
          "data": {
            "text/plain": [
              "<keras.engine.sequential.Sequential at 0x7f4ca2ed3f50>"
            ]
          },
          "metadata": {},
          "execution_count": 23
        }
      ]
    },
    {
      "cell_type": "markdown",
      "source": [
        "DUMMY MODEL"
      ],
      "metadata": {
        "id": "B1fNJY4dQbce"
      }
    },
    {
      "cell_type": "code",
      "source": [],
      "metadata": {
        "id": "ZNBEd714NVJF"
      },
      "execution_count": null,
      "outputs": []
    },
    {
      "cell_type": "code",
      "source": [],
      "metadata": {
        "id": "zgVhi2woNVOe"
      },
      "execution_count": null,
      "outputs": []
    },
    {
      "cell_type": "code",
      "source": [],
      "metadata": {
        "id": "cy3fZEj7NVe1"
      },
      "execution_count": null,
      "outputs": []
    },
    {
      "cell_type": "code",
      "source": [],
      "metadata": {
        "id": "39XAL699PP1u"
      },
      "execution_count": null,
      "outputs": []
    },
    {
      "cell_type": "code",
      "source": [],
      "metadata": {
        "id": "G5h89XIaOmTt"
      },
      "execution_count": null,
      "outputs": []
    },
    {
      "cell_type": "markdown",
      "source": [
        "**opencv & mediapipe**\n"
      ],
      "metadata": {
        "id": "rZaifD4xn862"
      }
    },
    {
      "cell_type": "code",
      "source": [],
      "metadata": {
        "id": "Fj1tM8fzOmWY"
      },
      "execution_count": null,
      "outputs": []
    },
    {
      "cell_type": "code",
      "source": [],
      "metadata": {
        "id": "LQ86NiWmEdOO"
      },
      "execution_count": null,
      "outputs": []
    },
    {
      "cell_type": "code",
      "source": [],
      "metadata": {
        "id": "DAkXUXadEdR1"
      },
      "execution_count": null,
      "outputs": []
    },
    {
      "cell_type": "code",
      "source": [],
      "metadata": {
        "id": "eSLS9i_ROmZp"
      },
      "execution_count": null,
      "outputs": []
    },
    {
      "cell_type": "code",
      "source": [],
      "metadata": {
        "id": "wFGDZ_VRRANg"
      },
      "execution_count": null,
      "outputs": []
    },
    {
      "cell_type": "code",
      "source": [],
      "metadata": {
        "id": "vGMJcJNnRa0c"
      },
      "execution_count": null,
      "outputs": []
    },
    {
      "cell_type": "code",
      "source": [],
      "metadata": {
        "id": "yQPCPSKRRa3z"
      },
      "execution_count": null,
      "outputs": []
    },
    {
      "cell_type": "code",
      "source": [],
      "metadata": {
        "id": "801D8r0zRykz"
      },
      "execution_count": null,
      "outputs": []
    },
    {
      "cell_type": "code",
      "source": [],
      "metadata": {
        "id": "QlV2tEGvRyoP"
      },
      "execution_count": null,
      "outputs": []
    },
    {
      "cell_type": "code",
      "source": [],
      "metadata": {
        "id": "SNyC84l2Yt-g"
      },
      "execution_count": null,
      "outputs": []
    },
    {
      "cell_type": "code",
      "source": [],
      "metadata": {
        "id": "TraFsjxSiG4F"
      },
      "execution_count": null,
      "outputs": []
    },
    {
      "cell_type": "code",
      "source": [],
      "metadata": {
        "id": "_yCQ2vsYlTt1"
      },
      "execution_count": null,
      "outputs": []
    },
    {
      "cell_type": "code",
      "source": [],
      "metadata": {
        "id": "CK6NqhgAlTgW"
      },
      "execution_count": null,
      "outputs": []
    },
    {
      "cell_type": "code",
      "source": [],
      "metadata": {
        "id": "ayVI0EFGlg3A"
      },
      "execution_count": null,
      "outputs": []
    },
    {
      "cell_type": "code",
      "source": [],
      "metadata": {
        "id": "TpCjmjgslgzb"
      },
      "execution_count": null,
      "outputs": []
    },
    {
      "cell_type": "code",
      "source": [],
      "metadata": {
        "id": "DChKpz8mS70U"
      },
      "execution_count": null,
      "outputs": []
    },
    {
      "cell_type": "code",
      "source": [],
      "metadata": {
        "id": "kMJ8RIILS72c"
      },
      "execution_count": null,
      "outputs": []
    },
    {
      "cell_type": "code",
      "source": [],
      "metadata": {
        "id": "iHcuzYymS76F"
      },
      "execution_count": null,
      "outputs": []
    },
    {
      "cell_type": "code",
      "source": [],
      "metadata": {
        "id": "1aZ5vUAunoAr"
      },
      "execution_count": null,
      "outputs": []
    },
    {
      "cell_type": "code",
      "source": [],
      "metadata": {
        "id": "YHz2nv1BoRwR"
      },
      "execution_count": null,
      "outputs": []
    },
    {
      "cell_type": "code",
      "source": [],
      "metadata": {
        "id": "CfrqUcugoRzo"
      },
      "execution_count": null,
      "outputs": []
    },
    {
      "cell_type": "code",
      "source": [],
      "metadata": {
        "id": "5f8e__VPt92z"
      },
      "execution_count": null,
      "outputs": []
    },
    {
      "cell_type": "code",
      "source": [],
      "metadata": {
        "id": "NneiQYXvt96L"
      },
      "execution_count": null,
      "outputs": []
    }
  ]
}